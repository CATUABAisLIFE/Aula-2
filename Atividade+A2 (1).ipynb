{
 "cells": [
  {
   "cell_type": "markdown",
   "metadata": {},
   "source": [
    "Índice"
   ]
  },
  {
   "cell_type": "markdown",
   "metadata": {},
   "source": [
    "- [Descrição da Atividade](#Descrição-da-Atividade)"
   ]
  },
  {
   "cell_type": "code",
   "execution_count": 42,
   "metadata": {},
   "outputs": [],
   "source": [
    "#pathFileImages = 'C:/Users/claud/OneDrive/Documentos/Figuras Matemática Computacional/Erros/'\n",
    "\n",
    "pathFileImages = 'C:/Users/claud/Dropbox/RepoGit/disciplina/temp/MatematicaComputacionalUFPA/Noções Básicas sobre Erros/Figuras Representação/'\n",
    "\n",
    "\n",
    "from IPython.display import Image\n",
    "from IPython.display import HTML\n",
    "import matplotlib.pyplot as plt\n",
    "import numpy as np\n",
    "import numpy.random as npr\n",
    "import math\n",
    "import decimal"
   ]
  },
  {
   "cell_type": "markdown",
   "metadata": {},
   "source": [
    "# Descrição da Atividade"
   ]
  },
  {
   "cell_type": "code",
   "execution_count": null,
   "metadata": {},
   "outputs": [],
   "source": [
    "print('A base em binário ', bin(10))\n",
    "r_1 = 2**-4 + 2**-5 + 2**-6\n",
    "print( 'Valor em binário a ser convertindo é r_1 = ', r_1 )\n",
    "convertido=[]\n",
    "fracInt=0\n",
    "while (r_1!=0):\n",
    "    print('\\n iteração...\\n')\n",
    "    w=r_1*10\n",
    "    fracInt=math.modf(w)\n",
    "    b_1=fracInt[1]\n",
    "    r_1=fracInt[0]\n",
    "    print('Convensão de z1 (parte inteira) para a base 10,', b_1)\n",
    "    print('A parte fracionária do número binário é r_2 =',r_1)\n",
    "    convertido.append(int(b_1))\n",
    "    \n",
    "    \n",
    "print(convertido)"
   ]
  },
  {
   "cell_type": "code",
   "execution_count": 5,
   "metadata": {},
   "outputs": [
    {
     "name": "stdout",
     "output_type": "stream",
     "text": [
      "1.25 okay\n",
      "10.0 okay\n",
      "-238.0 okay\n",
      "2.71 okay\n",
      "7e-05 underflor\n",
      "718000.0 overflor\n"
     ]
    }
   ],
   "source": [
    "\n",
    "print(0.125*10**1, \"okay\") \n",
    "print(0.100*10**2, \"okay\") \n",
    "print(-0.238*10**3, \"okay\") \n",
    "print(0.271*10**1, \"okay\")  \n",
    "print(0.7*10**-4, \"underflor\") \n",
    "print (0.718*10**6, \"overflor\")\n",
    "\n"
   ]
  },
  {
   "cell_type": "code",
   "execution_count": null,
   "metadata": {},
   "outputs": [],
   "source": [
    "def arredonda(num):\n",
    "    cont=0\n",
    "    if(num>=1):\n",
    "        while(num>=1): \n",
    "            num=(num/10)\n",
    "            print(num)\n",
    "            cont+=1\n",
    "        aux=round(num,4)\n",
    "        print(\"arredondamento\",aux*10**cont)\n",
    "    \n",
    "    if(num<0.1):\n",
    "        while(num<0.1): \n",
    "            num=(num*10)\n",
    "            print(num)\n",
    "            cont+=1\n",
    "        aux=round(num,4)\n",
    "        print(aux*10**cont)\n",
    "        print('arredondado',aux)\n",
    "\n",
    "    "
   ]
  },
  {
   "cell_type": "code",
   "execution_count": null,
   "metadata": {
    "scrolled": true
   },
   "outputs": [],
   "source": [
    "def truncar(num):\n",
    "    cont=0\n",
    "    if(num>=1):\n",
    "        while(num>=1):\n",
    "            num=(num/10)\n",
    "            cont+=1\n",
    "    a = '{}'.format(num)\n",
    "    b, c, d = a.partition('.')\n",
    "    aux = '.'.join([b, (d+'0'*4)[:4]])\n",
    "    aux2=float(aux)\n",
    "    print(aux2*10**cont)\n",
    "    \n",
    "    if(num<0.1):\n",
    "        while(num<0.1):\n",
    "            num=(num*10)\n",
    "            print(num)\n",
    "            cont+=1\n",
    "    a = '{}'.format(num)\n",
    "    b, c, d = a.partition('.')\n",
    "    aux = '.'.join([b, (d+'0'*4)[:4]])\n",
    "    aux2=float(aux)\n",
    "    print('truncado',aux2*10**-cont)\n",
    "\n"
   ]
  }
 ],
 "metadata": {
  "anaconda-cloud": {},
  "kernelspec": {
   "display_name": "Python 3",
   "language": "python",
   "name": "python3"
  },
  "language_info": {
   "codemirror_mode": {
    "name": "ipython",
    "version": 3
   },
   "file_extension": ".py",
   "mimetype": "text/x-python",
   "name": "python",
   "nbconvert_exporter": "python",
   "pygments_lexer": "ipython3",
   "version": "3.6.5"
  }
 },
 "nbformat": 4,
 "nbformat_minor": 2
}
