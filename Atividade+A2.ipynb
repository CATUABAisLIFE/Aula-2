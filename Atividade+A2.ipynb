{
 "cells": [
  {
   "cell_type": "markdown",
   "metadata": {},
   "source": [
    "Índice"
   ]
  },
  {
   "cell_type": "markdown",
   "metadata": {},
   "source": [
    "- [Descrição da Atividade](#Descrição-da-Atividade)"
   ]
  },
  {
   "cell_type": "code",
   "execution_count": 2,
   "metadata": {
    "collapsed": true
   },
   "outputs": [],
   "source": [
    "#pathFileImages = 'C:/Users/claud/OneDrive/Documentos/Figuras Matemática Computacional/Erros/'\n",
    "\n",
    "pathFileImages = 'C:/Users/claud/Dropbox/RepoGit/disciplina/temp/MatematicaComputacionalUFPA/Noções Básicas sobre Erros/Figuras Representação/'\n",
    "\n",
    "\n",
    "from IPython.display import Image\n",
    "from IPython.display import HTML\n",
    "import matplotlib.pyplot as plt\n",
    "import numpy as np\n",
    "import numpy.random as npr\n",
    "import math"
   ]
  },
  {
   "cell_type": "markdown",
   "metadata": {},
   "source": [
    "# Descrição da Atividade"
   ]
  },
  {
   "cell_type": "code",
   "execution_count": 54,
   "metadata": {
    "collapsed": false
   },
   "outputs": [
    {
     "name": "stdout",
     "output_type": "stream",
     "text": [
      "1.25 okay\n",
      "10.0 okay\n",
      "-238.0 okay\n",
      "2.71 okay\n",
      "7e-05 underflor\n",
      "718000.0 overflor\n"
     ]
    }
   ],
   "source": [
    "\n",
    "print(0.125*10**1, \"okay\") \n",
    "print(0.100*10**2, \"okay\") \n",
    "print(-0.238*10**3, \"okay\") \n",
    "print(0.271*10**1, \"okay\")  \n",
    "print(0.7*10**-4, \"underflor\") \n",
    "print (0.718*10**6, \"overflor\")\n",
    "\n"
   ]
  },
  {
   "cell_type": "code",
   "execution_count": null,
   "metadata": {
    "collapsed": true
   },
   "outputs": [],
   "source": []
  }
 ],
 "metadata": {
  "anaconda-cloud": {},
  "kernelspec": {
   "display_name": "Python [default]",
   "language": "python",
   "name": "python3"
  },
  "language_info": {
   "codemirror_mode": {
    "name": "ipython",
    "version": 3
   },
   "file_extension": ".py",
   "mimetype": "text/x-python",
   "name": "python",
   "nbconvert_exporter": "python",
   "pygments_lexer": "ipython3",
   "version": "3.5.2"
  }
 },
 "nbformat": 4,
 "nbformat_minor": 2
}
